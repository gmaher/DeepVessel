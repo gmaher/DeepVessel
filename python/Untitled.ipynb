{
 "cells": [
  {
   "cell_type": "code",
   "execution_count": null,
   "metadata": {
    "collapsed": true
   },
   "outputs": [],
   "source": [
    "import tensorflow as tf\n",
    "import modules.tf_util as tf_util\n",
    "import numpy as np\n",
    "import tables\n",
    "import matplotlib.pyplot as plt\n",
    "\n",
    "#######################################################\n",
    "# Get data\n",
    "#######################################################\n",
    "data_path = '/home/marsdenlab/datasets/DeepVesselData/'\n",
    "train = data_path+'train_dist.hdf5'\n",
    "val = data_path+'val_dist.hdf5'\n",
    "test = data_path+'test_dist.hdf5'\n",
    "\n",
    "f_train = tables.open_file(train)\n",
    "f_val = tables.open_file(val)\n",
    "\n",
    "input_shape = f_train.root.X.shape\n",
    "output_shape = f_train.root.Y.shape\n",
    "print input_shape, output_shape\n",
    "\n",
    "print 'data shapes, train={},{}'.format(input_shape,output_shape)\n",
    "\n",
    "\n"
   ]
  },
  {
   "cell_type": "code",
   "execution_count": null,
   "metadata": {
    "collapsed": true
   },
   "outputs": [],
   "source": [
    "######################################################\n",
    "# Define variables\n",
    "######################################################\n",
    "N = f_train.root.X.shape[0]\n",
    "Nval = f_val.root.X.shape[0]\n",
    "W,H,D = f_train.root.X[0].shape\n",
    "C = 1\n",
    "Nbatch = 10\n",
    "lr = 1e-3\n",
    "Nsteps=1000\n",
    "print_step=100\n",
    "#########################################################\n",
    "# Define graph\n",
    "#########################################################\n",
    "x = tf.placeholder(shape=[None,W,H,D,C],dtype=tf.float32)\n",
    "y = tf.placeholder(shape=[None,W,H,D,C],dtype=tf.float32)\n",
    "#Lets make a resnet!\n",
    "o_1 = tf_util.conv3D_N(x,scope='first_conv')\n",
    "y_1 = o_1+x\n",
    "\n",
    "o_2 = tf_util.conv3D_N(y_1,scope='second_conv')\n",
    "y_2 = y_1+o_2\n",
    "\n",
    "o_3 = tf_util.conv3D_N(y_2,scope='third_conv')\n",
    "y_3 = y_2+o_3\n",
    "\n",
    "yhat = tf_util.conv3D(y_3,tf.identity,nfilters=1,scope='yhat')\n",
    "yclass = tf.sigmoid(yhat)\n",
    "\n",
    "loss = tf.reduce_mean(tf.nn.sigmoid_cross_entropy_with_logits(labels=y,logits=yhat,name='loss'))\n",
    "\n",
    "opt = tf.train.AdamOptimizer(lr)\n",
    "train = opt.minimize(loss)\n",
    "\n"
   ]
  },
  {
   "cell_type": "code",
   "execution_count": null,
   "metadata": {
    "collapsed": true
   },
   "outputs": [],
   "source": [
    "#######################################################\n",
    "# Train\n",
    "#######################################################\n",
    "train_hist = []\n",
    "val_hist = []\n",
    "sess = tf.Session()\n",
    "sess.run(tf.global_variables_initializer())\n",
    "for i in range(Nsteps):\n",
    "    xb,yb = tf_util.get_batch(f_train.root.X,f_train.root.Y,N,n=Nbatch,y_index=0)\n",
    "    l,_=sess.run([loss,train],{x:xb,y:yb})\n",
    "    if i%(print_step/5)==0:\n",
    "        print \"iteration {}\".format(i)\n",
    "    if i%print_step == 0:\n",
    "        xb,yb = tf_util.get_batch(f_val.root.X,f_val.root.Y,Nval,Nbatch,y_index=0)\n",
    "        lval=sess.run(loss,{x:xb,y:yb})\n",
    "        print \"Train: {}, Val: {}\".format(l,lval)\n",
    "\n"
   ]
  },
  {
   "cell_type": "code",
   "execution_count": null,
   "metadata": {
    "collapsed": true
   },
   "outputs": [],
   "source": [
    "######################################################\n",
    "# Plot\n",
    "######################################################\n",
    "from mpl_toolkits.axes_grid1 import make_axes_locatable\n",
    "%matplolib.inline\n",
    "plt.rcParams['figure.figsize'] = (20.0, 10.0)\n",
    "def implot(mp,ax):\n",
    "    im = ax.imshow(mp.astype(np.float32), cmap='gray')\n",
    "    divider = make_axes_locatable(ax)\n",
    "    cax = divider.append_axes(\"right\", size=\"5%\", pad=0.05)\n",
    "    cbar = plt.colorbar(im, cax=cax)\n",
    "\n",
    "for i in range(5):\n",
    "    j = np.random.randint(len(f_val.root.X))\n",
    "    xval = f_val.root.X[j:j+2][:,:,:,:,np.newaxis]\n",
    "    yval = f_val.root.Y[j:j+2][:,:,:,:,0]\n",
    "    yval = yval[:,:,:,:,np.newaxis]\n",
    "    ypred = sess.run(yclass,{x:xval,y:yval})\n",
    "    mpx = np.amax(xval[0,:,:,:,0],axis=(1))\n",
    "    mpy = np.amax(yval[0,:,:,:,0],axis=(1))\n",
    "    mpd = np.amax(ypred[0,:,:,:,0],axis=(1))\n",
    "\n",
    "    plt.figure()\n",
    "    fig, (ax1, ax2, ax3) = plt.subplots(1, 3, sharey=True)\n",
    "    implot(mpx,ax1)\n",
    "    implot(mpy,ax2)\n",
    "    implot(mpd,ax3)\n",
    "    plt.tight_layout\n",
    "    plt.savefig('{}.png'.format(i),dpi=400)\n",
    "\n",
    "plt.close('all')"
   ]
  }
 ],
 "metadata": {
  "kernelspec": {
   "display_name": "Python [conda root]",
   "language": "python",
   "name": "conda-root-py"
  },
  "language_info": {
   "codemirror_mode": {
    "name": "ipython",
    "version": 2
   },
   "file_extension": ".py",
   "mimetype": "text/x-python",
   "name": "python",
   "nbconvert_exporter": "python",
   "pygments_lexer": "ipython2",
   "version": "2.7.13"
  }
 },
 "nbformat": 4,
 "nbformat_minor": 2
}
